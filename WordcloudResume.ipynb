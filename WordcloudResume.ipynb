{
 "cells": [
  {
   "cell_type": "markdown",
   "id": "3f13b933",
   "metadata": {},
   "source": [
    "This file creates a unique and colurful wordcloud in the shape of a person to use in my resume\n",
    "This searches for the most commonly used words in my resume and creates a .png image with the most common words larger.\n",
    "\n"
   ]
  },
  {
   "cell_type": "code",
   "execution_count": 1,
   "id": "e8eac2f6",
   "metadata": {
    "scrolled": true
   },
   "outputs": [],
   "source": [
    "#not required if already installed. Run in Terminal or CMD\n",
    "#pip install stylecloud"
   ]
  },
  {
   "cell_type": "code",
   "execution_count": 2,
   "id": "11f1a311",
   "metadata": {},
   "outputs": [],
   "source": [
    "#not required if already installed. Run in Terminal or CMD\n",
    "#pip install stop_words"
   ]
  },
  {
   "cell_type": "code",
   "execution_count": 3,
   "id": "416b370a",
   "metadata": {},
   "outputs": [],
   "source": [
    "#you may need to roll back the PIL version due to a change in paramters that the wordcloud library is yet to be updated for (current Sept2023)\n",
    "#Run in Terminal or CMD\n",
    "#pip install Pillow==9.5.0"
   ]
  },
  {
   "cell_type": "code",
   "execution_count": 4,
   "id": "2ad242ac",
   "metadata": {},
   "outputs": [],
   "source": [
    "import stylecloud\n",
    "from stop_words import get_stop_words"
   ]
  },
  {
   "cell_type": "code",
   "execution_count": 5,
   "id": "2da99d6d",
   "metadata": {},
   "outputs": [],
   "source": [
    "stop_words = get_stop_words('english')"
   ]
  },
  {
   "cell_type": "code",
   "execution_count": 6,
   "id": "85c825ec",
   "metadata": {},
   "outputs": [],
   "source": [
    "#append words to the generic stopword list that aren't important and i don't want shown in the image\n",
    "# add words you don't want included below\n",
    "\n",
    "stop_words.append('July')\n",
    "stop_words.append('Tools')\n",
    "stop_words.append('Sales')\n",
    "stop_words.append('Account')\n",
    "stop_words.append('Manager')\n",
    "stop_words.append('Executive')\n",
    "stop_words.append('Mar')\n",
    "stop_words.append('Jun')\n",
    "stop_words.append('Role')\n"
   ]
  },
  {
   "cell_type": "markdown",
   "id": "6b903828",
   "metadata": {},
   "source": [
    "## Generate word clouds. Three different images below"
   ]
  },
  {
   "cell_type": "code",
   "execution_count": 7,
   "id": "401b9161",
   "metadata": {},
   "outputs": [
    {
     "ename": "FileNotFoundError",
     "evalue": "[Errno 2] No such file or directory: 'C:\\\\Users\\\\krist\\\\OneDrive\\\\Projects\\\\Folio\\\\Wordcloud\\\\Kristian Stapley Resume -Data Analyst 2023.txt'",
     "output_type": "error",
     "traceback": [
      "\u001b[1;31m---------------------------------------------------------------------------\u001b[0m",
      "\u001b[1;31mFileNotFoundError\u001b[0m                         Traceback (most recent call last)",
      "Input \u001b[1;32mIn [7]\u001b[0m, in \u001b[0;36m<cell line: 2>\u001b[1;34m()\u001b[0m\n\u001b[0;32m      1\u001b[0m \u001b[38;5;66;03m#generates the shap of a person using 50 words\u001b[39;00m\n\u001b[1;32m----> 2\u001b[0m \u001b[43mstylecloud\u001b[49m\u001b[38;5;241;43m.\u001b[39;49m\u001b[43mgen_stylecloud\u001b[49m\u001b[43m(\u001b[49m\u001b[43mfile_path\u001b[49m\u001b[38;5;241;43m=\u001b[39;49m\u001b[38;5;124;43m\"\u001b[39;49m\u001b[38;5;124;43mC:\u001b[39;49m\u001b[38;5;130;43;01m\\\\\u001b[39;49;00m\u001b[38;5;124;43mUsers\u001b[39;49m\u001b[38;5;124;43m\\\u001b[39;49m\u001b[38;5;124;43mkrist\u001b[39;49m\u001b[38;5;124;43m\\\u001b[39;49m\u001b[38;5;124;43mOneDrive\u001b[39;49m\u001b[38;5;124;43m\\\u001b[39;49m\u001b[38;5;124;43mProjects\u001b[39;49m\u001b[38;5;124;43m\\\u001b[39;49m\u001b[38;5;124;43mFolio\u001b[39;49m\u001b[38;5;124;43m\\\u001b[39;49m\u001b[38;5;124;43mWordcloud\u001b[39;49m\u001b[38;5;124;43m\\\u001b[39;49m\u001b[38;5;124;43mKristian Stapley Resume -Data Analyst 2023.txt\u001b[39;49m\u001b[38;5;124;43m\"\u001b[39;49m\u001b[43m,\u001b[49m\n\u001b[0;32m      3\u001b[0m \u001b[43m                          \u001b[49m\u001b[43micon_name\u001b[49m\u001b[38;5;241;43m=\u001b[39;49m\u001b[38;5;124;43m'\u001b[39;49m\u001b[38;5;124;43mfas fa-user\u001b[39;49m\u001b[38;5;124;43m'\u001b[39;49m\u001b[43m,\u001b[49m\u001b[43m \u001b[49m\u001b[38;5;66;43;03m#change this to choose a differnet image. Go here to search \"https://fontawesome.com/v4/icons/\"\u001b[39;49;00m\n\u001b[0;32m      4\u001b[0m \u001b[43m                         \u001b[49m\u001b[43mpalette\u001b[49m\u001b[38;5;241;43m=\u001b[39;49m\u001b[38;5;124;43m'\u001b[39;49m\u001b[38;5;124;43mcartocolors.qualitative.Bold_7\u001b[39;49m\u001b[38;5;124;43m'\u001b[39;49m\u001b[43m,\u001b[49m\u001b[43m \u001b[49m\u001b[38;5;66;43;03m#change the output colur or style here\u001b[39;49;00m\n\u001b[0;32m      5\u001b[0m \u001b[43m                          \u001b[49m\u001b[43mbackground_color\u001b[49m\u001b[38;5;241;43m=\u001b[39;49m\u001b[38;5;124;43m'\u001b[39;49m\u001b[38;5;124;43mwhite\u001b[39;49m\u001b[38;5;124;43m'\u001b[39;49m\u001b[43m,\u001b[49m\u001b[43m \u001b[49m\u001b[38;5;66;43;03m#change the background colour here. White is good to put in a word doc\u001b[39;49;00m\n\u001b[0;32m      6\u001b[0m \u001b[43m                          \u001b[49m\u001b[43moutput_name\u001b[49m\u001b[38;5;241;43m=\u001b[39;49m\u001b[38;5;124;43m'\u001b[39;49m\u001b[38;5;124;43mPersonResumeWordCloud.png\u001b[39;49m\u001b[38;5;124;43m'\u001b[39;49m\u001b[43m,\u001b[49m\u001b[43m \u001b[49m\u001b[38;5;66;43;03m#this outputs to the same file as the .ipynb file is located\u001b[39;49;00m\n\u001b[0;32m      7\u001b[0m \u001b[43m                          \u001b[49m\u001b[43mcollocations\u001b[49m\u001b[38;5;241;43m=\u001b[39;49m\u001b[38;5;28;43;01mFalse\u001b[39;49;00m\u001b[43m,\u001b[49m\n\u001b[0;32m      8\u001b[0m \u001b[43m                          \u001b[49m\u001b[43mmax_words\u001b[49m\u001b[38;5;241;43m=\u001b[39;49m\u001b[38;5;241;43m50\u001b[39;49m\u001b[43m,\u001b[49m\u001b[43m \u001b[49m\u001b[38;5;66;43;03m#the number of words that are in the generated cloud\u001b[39;49;00m\n\u001b[0;32m      9\u001b[0m \u001b[43m                          \u001b[49m\u001b[43mcustom_stopwords\u001b[49m\u001b[38;5;241;43m=\u001b[39;49m\u001b[43mstop_words\u001b[49m\u001b[43m \u001b[49m\u001b[38;5;66;43;03m#this uses the selection of words to be ommitted as above \u001b[39;49;00m\n\u001b[0;32m     10\u001b[0m \u001b[43m                         \u001b[49m\u001b[43m)\u001b[49m\n",
      "File \u001b[1;32m~\\anaconda3\\lib\\site-packages\\stylecloud\\stylecloud.py:216\u001b[0m, in \u001b[0;36mgen_stylecloud\u001b[1;34m(text, file_path, size, icon_name, palette, colors, background_color, max_font_size, max_words, stopwords, custom_stopwords, add_stopwords, icon_dir, output_name, gradient, font_path, random_state, collocations, invert_mask, pro_icon_path, pro_css_path)\u001b[0m\n\u001b[0;32m    213\u001b[0m \u001b[38;5;28;01massert\u001b[39;00m \u001b[38;5;28many\u001b[39m([text, file_path]), \u001b[38;5;124m\"\u001b[39m\u001b[38;5;124mEither text or file_path must be specified.\u001b[39m\u001b[38;5;124m\"\u001b[39m\n\u001b[0;32m    215\u001b[0m \u001b[38;5;28;01mif\u001b[39;00m file_path:\n\u001b[1;32m--> 216\u001b[0m     text \u001b[38;5;241m=\u001b[39m \u001b[43mfile_to_text\u001b[49m\u001b[43m(\u001b[49m\u001b[43mfile_path\u001b[49m\u001b[43m)\u001b[49m\n\u001b[0;32m    218\u001b[0m gen_fa_mask(icon_name, size, icon_dir, pro_icon_path, pro_css_path)\n\u001b[0;32m    220\u001b[0m \u001b[38;5;28;01mif\u001b[39;00m gradient \u001b[38;5;129;01mand\u001b[39;00m colors \u001b[38;5;129;01mis\u001b[39;00m \u001b[38;5;28;01mNone\u001b[39;00m:\n",
      "File \u001b[1;32m~\\anaconda3\\lib\\site-packages\\stylecloud\\stylecloud.py:23\u001b[0m, in \u001b[0;36mfile_to_text\u001b[1;34m(file_path)\u001b[0m\n\u001b[0;32m     17\u001b[0m \u001b[38;5;250m\u001b[39m\u001b[38;5;124;03m\"\"\"\u001b[39;00m\n\u001b[0;32m     18\u001b[0m \u001b[38;5;124;03mReads a text file, or if the file is a .csv,\u001b[39;00m\n\u001b[0;32m     19\u001b[0m \u001b[38;5;124;03mread as a dict of word/weights.\u001b[39;00m\n\u001b[0;32m     20\u001b[0m \u001b[38;5;124;03m\"\"\"\u001b[39;00m\n\u001b[0;32m     22\u001b[0m \u001b[38;5;28;01mif\u001b[39;00m \u001b[38;5;129;01mnot\u001b[39;00m file_path\u001b[38;5;241m.\u001b[39mendswith(\u001b[38;5;124m\"\u001b[39m\u001b[38;5;124m.csv\u001b[39m\u001b[38;5;124m\"\u001b[39m):\n\u001b[1;32m---> 23\u001b[0m     \u001b[38;5;28;01mwith\u001b[39;00m \u001b[38;5;28;43mopen\u001b[39;49m\u001b[43m(\u001b[49m\u001b[43mfile_path\u001b[49m\u001b[43m,\u001b[49m\u001b[43m \u001b[49m\u001b[38;5;124;43m\"\u001b[39;49m\u001b[38;5;124;43mr\u001b[39;49m\u001b[38;5;124;43m\"\u001b[39;49m\u001b[43m,\u001b[49m\u001b[43m \u001b[49m\u001b[43mencoding\u001b[49m\u001b[38;5;241;43m=\u001b[39;49m\u001b[38;5;124;43m\"\u001b[39;49m\u001b[38;5;124;43mutf-8\u001b[39;49m\u001b[38;5;124;43m\"\u001b[39;49m\u001b[43m)\u001b[49m \u001b[38;5;28;01mas\u001b[39;00m f:\n\u001b[0;32m     24\u001b[0m         text \u001b[38;5;241m=\u001b[39m f\u001b[38;5;241m.\u001b[39mread()\n\u001b[0;32m     25\u001b[0m     \u001b[38;5;28;01mreturn\u001b[39;00m text\n",
      "\u001b[1;31mFileNotFoundError\u001b[0m: [Errno 2] No such file or directory: 'C:\\\\Users\\\\krist\\\\OneDrive\\\\Projects\\\\Folio\\\\Wordcloud\\\\Kristian Stapley Resume -Data Analyst 2023.txt'"
     ]
    }
   ],
   "source": [
    "#generates the shap of a person using 50 words\n",
    "stylecloud.gen_stylecloud(file_path=\"C:\\\\Users\\krist\\OneDrive\\Projects\\Folio\\Wordcloud\\Kristian Stapley Resume -Data Analyst 2023.txt\",\n",
    "                          icon_name='fas fa-user', #change this to choose a differnet image. Go here to search \"https://fontawesome.com/v4/icons/\"\n",
    "                         palette='cartocolors.qualitative.Bold_7', #change the output colur or style here\n",
    "                          background_color='white', #change the background colour here. White is good to put in a word doc\n",
    "                          output_name='PersonResumeWordCloud.png', #this outputs to the same file as the .ipynb file is located\n",
    "                          collocations=False,\n",
    "                          max_words=50, #the number of words that are in the generated cloud\n",
    "                          custom_stopwords=stop_words #this uses the selection of words to be ommitted as above \n",
    "                         )"
   ]
  },
  {
   "attachments": {},
   "cell_type": "markdown",
   "id": "ed629181",
   "metadata": {},
   "source": [
    "<img src=\"PersonResumeWordCloud.png\" width=\"200\" height=\"300\">"
   ]
  },
  {
   "cell_type": "code",
   "execution_count": null,
   "id": "4867b8df",
   "metadata": {},
   "outputs": [],
   "source": [
    "#generates the shape of a person using 100 words\n",
    "stylecloud.gen_stylecloud(file_path=\"C:\\\\Users\\krist\\OneDrive\\Projects\\Folio\\Wordcloud\\Kristian Stapley Resume -Data Analyst 2023.txt\",\n",
    "                          icon_name='fas fa-user', #change this to choose a differnet image. Go here to search \"https://fontawesome.com/icons\"\n",
    "                         palette='cartocolors.qualitative.Bold_7', #change the output colour or style here\n",
    "                          background_color='white', #change the background colour here. White is good to put in a word doc\n",
    "                          output_name='PersonResumeWordCloud2.png', #this outputs to the same file as the .ipynb file is located\n",
    "                          collocations=False,\n",
    "                          max_words=100, #the number of words that are in the generated cloud\n",
    "                          custom_stopwords=stop_words #this uses the selection of words to be ommitted as above \n",
    "                         )"
   ]
  },
  {
   "cell_type": "markdown",
   "id": "5957bd44",
   "metadata": {},
   "source": [
    "<img src=\"PersonResumeWordCloud2.png\" width=\"200\" height=\"300\">"
   ]
  },
  {
   "cell_type": "code",
   "execution_count": null,
   "id": "b4dc33e5",
   "metadata": {},
   "outputs": [],
   "source": [
    "#generates the shape of a lightbulb using 100 words\n",
    "stylecloud.gen_stylecloud(file_path=\"C:\\\\Users\\krist\\OneDrive\\Projects\\Folio\\Wordcloud\\Kristian Stapley Resume -Data Analyst 2023.txt\",\n",
    "                          icon_name='fas fa-lightbulb', #change this to choose a differnet image. Go here to search \"https://fontawesome.com/v4/icons/\". NB i find you have to change the ico name and use 'fas' in front of it\n",
    "                         palette='cartocolors.qualitative.Bold_7', #change the output colur or style here\n",
    "                          background_color='white', #change the background colour here. White is good to put in a word doc\n",
    "                          output_name='LightbulbResumeWordCloud.png', #this outputs to the same file as the .ipynb file is located\n",
    "                          collocations=False,\n",
    "                          max_words=100, #the number of words that are in the generated cloud\n",
    "                          custom_stopwords=stop_words #this uses the selection of words to be ommitted as above \n",
    "                         )"
   ]
  },
  {
   "cell_type": "markdown",
   "id": "6bac7b50",
   "metadata": {},
   "source": [
    "<img src=\"LightbulbResumeWordCloud.png\" width=\"200\" height=\"300\">"
   ]
  },
  {
   "cell_type": "code",
   "execution_count": null,
   "id": "26085dc9",
   "metadata": {},
   "outputs": [],
   "source": []
  }
 ],
 "metadata": {
  "kernelspec": {
   "display_name": "Python 3 (ipykernel)",
   "language": "python",
   "name": "python3"
  },
  "language_info": {
   "codemirror_mode": {
    "name": "ipython",
    "version": 3
   },
   "file_extension": ".py",
   "mimetype": "text/x-python",
   "name": "python",
   "nbconvert_exporter": "python",
   "pygments_lexer": "ipython3",
   "version": "3.9.12"
  }
 },
 "nbformat": 4,
 "nbformat_minor": 5
}
