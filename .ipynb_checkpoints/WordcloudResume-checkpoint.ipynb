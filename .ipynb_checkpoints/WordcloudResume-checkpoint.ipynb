{
 "cells": [
  {
   "cell_type": "markdown",
   "id": "3f13b933",
   "metadata": {},
   "source": [
    "This file creates a unique and colurful wordcloud in the shape of a person to use in my resume\n",
    "This searches for the most commonly used words in my resume and creates a .png image with the most common words larger.\n",
    "\n"
   ]
  },
  {
   "cell_type": "code",
   "execution_count": 1,
   "id": "e8eac2f6",
   "metadata": {
    "scrolled": true
   },
   "outputs": [],
   "source": [
    "#not required if already installed. Run in Terminal or CMD\n",
    "#pip install stylecloud"
   ]
  },
  {
   "cell_type": "code",
   "execution_count": 2,
   "id": "11f1a311",
   "metadata": {},
   "outputs": [],
   "source": [
    "#not required if already installed. Run in Terminal or CMD\n",
    "#pip install stop_words"
   ]
  },
  {
   "cell_type": "code",
   "execution_count": 3,
   "id": "416b370a",
   "metadata": {},
   "outputs": [],
   "source": [
    "#you may need to roll back the PIL version due to a change in paramters that the wordcloud library is yet to be updated for (current Sept2023)\n",
    "#Run in Terminal or CMD\n",
    "#pip install Pillow==9.5.0"
   ]
  },
  {
   "cell_type": "code",
   "execution_count": 4,
   "id": "2ad242ac",
   "metadata": {},
   "outputs": [],
   "source": [
    "import stylecloud\n",
    "from stop_words import get_stop_words"
   ]
  },
  {
   "cell_type": "code",
   "execution_count": 5,
   "id": "2da99d6d",
   "metadata": {},
   "outputs": [],
   "source": [
    "stop_words = get_stop_words('english')"
   ]
  },
  {
   "cell_type": "code",
   "execution_count": 6,
   "id": "85c825ec",
   "metadata": {},
   "outputs": [],
   "source": [
    "#append words to the generic stopword list that aren't important and i don't want shown in the image\n",
    "# add words you don't want included below\n",
    "\n",
    "stop_words.append('July')\n",
    "stop_words.append('Tools')\n",
    "stop_words.append('Sales')\n",
    "stop_words.append('Account')\n",
    "stop_words.append('Manager')\n",
    "stop_words.append('Executive')\n",
    "stop_words.append('Mar')\n",
    "stop_words.append('Jun')\n",
    "stop_words.append('Role')\n"
   ]
  },
  {
   "cell_type": "code",
   "execution_count": 7,
   "id": "401b9161",
   "metadata": {},
   "outputs": [],
   "source": [
    "#generates the shap of a person using 50 words\n",
    "stylecloud.gen_stylecloud(file_path=\"C:\\\\Users\\krist\\OneDrive\\Projects\\Folio\\Wordcloud\\Kristian Stapley Resume -Data Analyst 2023.txt\",\n",
    "                          icon_name='fas fa-user', #change this to choose a differnet image. Go here to search \"https://fontawesome.com/v4/icons/\"\n",
    "                         palette='cartocolors.qualitative.Bold_7', #change the output colur or style here\n",
    "                          background_color='white', #change the background colour here. White is good to put in a word doc\n",
    "                          output_name='PersonResumeWordCloud.png', #this outputs to the same file as the .ipynb file is located\n",
    "                          collocations=False,\n",
    "                          max_words=50, #the number of words that are in the generated cloud\n",
    "                          custom_stopwords=stop_words #this uses the selection of words to be ommitted as above \n",
    "                         )"
   ]
  },
  {
   "cell_type": "code",
   "execution_count": 8,
   "id": "4867b8df",
   "metadata": {},
   "outputs": [],
   "source": [
    "#generates the shape of a person using 100 words\n",
    "stylecloud.gen_stylecloud(file_path=\"C:\\\\Users\\krist\\OneDrive\\Projects\\Folio\\Wordcloud\\Kristian Stapley Resume -Data Analyst 2023.txt\",\n",
    "                          icon_name='fas fa-user', #change this to choose a differnet image. Go here to search \"https://fontawesome.com/icons\"\n",
    "                         palette='cartocolors.qualitative.Bold_7', #change the output colour or style here\n",
    "                          background_color='white', #change the background colour here. White is good to put in a word doc\n",
    "                          output_name='PersonResumeWordCloud2.png', #this outputs to the same file as the .ipynb file is located\n",
    "                          collocations=False,\n",
    "                          max_words=100, #the number of words that are in the generated cloud\n",
    "                          custom_stopwords=stop_words #this uses the selection of words to be ommitted as above \n",
    "                         )"
   ]
  },
  {
   "cell_type": "code",
   "execution_count": 9,
   "id": "b4dc33e5",
   "metadata": {},
   "outputs": [],
   "source": [
    "#generates the shape of a lightbulb using 100 words\n",
    "stylecloud.gen_stylecloud(file_path=\"C:\\\\Users\\krist\\OneDrive\\Projects\\Folio\\Wordcloud\\Kristian Stapley Resume -Data Analyst 2023.txt\",\n",
    "                          icon_name='fas fa-lightbulb', #change this to choose a differnet image. Go here to search \"https://fontawesome.com/v4/icons/\". NB i find you have to change the ico name and use 'fas' in front of it\n",
    "                         palette='cartocolors.qualitative.Bold_7', #change the output colur or style here\n",
    "                          background_color='white', #change the background colour here. White is good to put in a word doc\n",
    "                          output_name='LightbulbResumeWordCloud.png', #this outputs to the same file as the .ipynb file is located\n",
    "                          collocations=False,\n",
    "                          max_words=100, #the number of words that are in the generated cloud\n",
    "                          custom_stopwords=stop_words #this uses the selection of words to be ommitted as above \n",
    "                         )"
   ]
  },
  {
   "cell_type": "code",
   "execution_count": null,
   "id": "280c9a40",
   "metadata": {},
   "outputs": [],
   "source": []
  }
 ],
 "metadata": {
  "kernelspec": {
   "display_name": "Python 3 (ipykernel)",
   "language": "python",
   "name": "python3"
  },
  "language_info": {
   "codemirror_mode": {
    "name": "ipython",
    "version": 3
   },
   "file_extension": ".py",
   "mimetype": "text/x-python",
   "name": "python",
   "nbconvert_exporter": "python",
   "pygments_lexer": "ipython3",
   "version": "3.9.12"
  }
 },
 "nbformat": 4,
 "nbformat_minor": 5
}
